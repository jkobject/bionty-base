{
 "cells": [
  {
   "cell_type": "code",
   "execution_count": null,
   "metadata": {},
   "outputs": [],
   "source": [
    "from biomart import BiomartServer"
   ]
  },
  {
   "cell_type": "code",
   "execution_count": null,
   "metadata": {},
   "outputs": [],
   "source": [
    "%load_ext autoreload\n",
    "%autoreload 2"
   ]
  },
  {
   "cell_type": "code",
   "execution_count": null,
   "metadata": {},
   "outputs": [],
   "source": [
    "server = BiomartServer(\"http://uswest.ensembl.org/biomart\")"
   ]
  },
  {
   "cell_type": "code",
   "execution_count": null,
   "metadata": {},
   "outputs": [],
   "source": [
    "server.show_databases()"
   ]
  },
  {
   "cell_type": "code",
   "execution_count": null,
   "metadata": {},
   "outputs": [],
   "source": [
    "server.datasets[\"hsapiens_gene_ensembl\"]"
   ]
  },
  {
   "cell_type": "code",
   "execution_count": null,
   "metadata": {},
   "outputs": [],
   "source": [
    "import biomart\n",
    "\n",
    "\n",
    "def get_ensembl_mappings(species=\"human\"):\n",
    "    # Set up connection to server\n",
    "    server = biomart.BiomartServer(\"http://uswest.ensembl.org/biomart\")\n",
    "\n",
    "    sname = Species().short_name[species]\n",
    "    mart = server.datasets[f\"{sname}_gene_ensembl\"]\n",
    "\n",
    "    # List the types of data we want\n",
    "    attributes = [\"ensembl_gene_id\", \"hgnc_id\", \"hgnc_symbol\"]\n",
    "\n",
    "    # Get the mapping between the attributes\n",
    "    response = mart.search({\"attributes\": attributes})\n",
    "    data = response.raw.data.decode(\"ascii\")\n",
    "\n",
    "    # ensembl_to_genesymbol = {}\n",
    "    # # Store the data in a dict\n",
    "    # for line in data.splitlines():\n",
    "    #     line = line.split('\\t')\n",
    "    #     # The entries are in the same order as in the `attributes` variable\n",
    "    #     transcript_id = line[0]\n",
    "    #     gene_symbol = line[1]\n",
    "    #     ensembl_gene = line[2]\n",
    "    #     ensembl_peptide = line[3]\n",
    "\n",
    "    #     # Some of these keys may be an empty string. If you want, you can\n",
    "    #     # avoid having a '' key in your dict by ensuring the\n",
    "    #     # transcript/gene/peptide ids have a nonzero length before\n",
    "    #     # adding them to the dict\n",
    "    #     ensembl_to_genesymbol[transcript_id] = gene_symbol\n",
    "    #     ensembl_to_genesymbol[ensembl_gene] = gene_symbol\n",
    "    #     ensembl_to_genesymbol[ensembl_peptide] = gene_symbol\n",
    "\n",
    "    return data"
   ]
  },
  {
   "cell_type": "code",
   "execution_count": null,
   "metadata": {},
   "outputs": [],
   "source": [
    "from _gene import Gene\n",
    "from _species import Species"
   ]
  },
  {
   "cell_type": "code",
   "execution_count": null,
   "metadata": {},
   "outputs": [],
   "source": [
    "res = get_ensembl_mappings()"
   ]
  },
  {
   "cell_type": "code",
   "execution_count": null,
   "metadata": {},
   "outputs": [],
   "source": [
    "import pandas as pd\n",
    "import io"
   ]
  },
  {
   "cell_type": "code",
   "execution_count": null,
   "metadata": {},
   "outputs": [],
   "source": [
    "df = pd.read_csv(io.StringIO(res), sep=\"\\t\", header=None)"
   ]
  },
  {
   "cell_type": "code",
   "execution_count": null,
   "metadata": {},
   "outputs": [],
   "source": [
    "df"
   ]
  },
  {
   "cell_type": "code",
   "execution_count": null,
   "metadata": {},
   "outputs": [],
   "source": []
  },
  {
   "cell_type": "code",
   "execution_count": null,
   "metadata": {},
   "outputs": [],
   "source": [
    "Gene.attributes(\"human\")"
   ]
  },
  {
   "cell_type": "code",
   "execution_count": null,
   "metadata": {},
   "outputs": [],
   "source": [
    "from _species import Species"
   ]
  },
  {
   "cell_type": "code",
   "execution_count": null,
   "metadata": {},
   "outputs": [],
   "source": [
    "Species.attributes()"
   ]
  },
  {
   "cell_type": "code",
   "execution_count": null,
   "metadata": {},
   "outputs": [],
   "source": [
    "import biomart\n",
    "\n",
    "server = biomart.BiomartServer(\"http://uswest.ensembl.org/biomart\")\n",
    "sname = Species().short_name[\"human\"]\n",
    "mart = server.datasets[f\"{sname}_gene_ensembl\"]\n",
    "mart.show_attributes()"
   ]
  },
  {
   "cell_type": "code",
   "execution_count": null,
   "metadata": {},
   "outputs": [],
   "source": []
  }
 ],
 "metadata": {
  "interpreter": {
   "hash": "ae1fefc8646a06dd2e75004cd934adda7c5727b046986a772e3b44b0ffba9754"
  },
  "kernelspec": {
   "display_name": "Python 3.9.7 ('py39')",
   "language": "python",
   "name": "python3"
  },
  "language_info": {
   "codemirror_mode": {
    "name": "ipython",
    "version": 3
   },
   "file_extension": ".py",
   "mimetype": "text/x-python",
   "name": "python",
   "nbconvert_exporter": "python",
   "pygments_lexer": "ipython3",
   "version": "3.9.7"
  }
 },
 "nbformat": 4,
 "nbformat_minor": 2
}
